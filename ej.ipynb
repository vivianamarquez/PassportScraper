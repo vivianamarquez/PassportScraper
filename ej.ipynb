{
 "cells": [
  {
   "cell_type": "code",
   "execution_count": 16,
   "id": "b9601856",
   "metadata": {},
   "outputs": [],
   "source": [
    "import urllib.request\n",
    "import bs4 as bs\n",
    "from bs4 import NavigableString, Tag"
   ]
  },
  {
   "cell_type": "code",
   "execution_count": 25,
   "id": "e37615e9",
   "metadata": {},
   "outputs": [],
   "source": [
    "link = \"https://www.guiainfantil.com/articulos/ocio/canciones-infantiles/en-un-bosque-de-la-china-cancion-de-enrique-y-ana-para-los-ninos/\"\n",
    " \n",
    "request = urllib.request.Request(link, headers={'User-Agent': 'Mozilla/5.0'})\n",
    "webpage = urllib.request.urlopen(request)\n",
    "source = webpage.read()\n",
    "webpage.close()\n",
    "\n",
    "soup = bs.BeautifulSoup(source, 'html.parser')"
   ]
  },
  {
   "cell_type": "code",
   "execution_count": 27,
   "id": "e642fb25",
   "metadata": {},
   "outputs": [
    {
     "name": "stdout",
     "output_type": "stream",
     "text": [
      "\n",
      "En el bosque de la China, \n",
      "la chinita se perdió, \n",
      "como yo andaba perdido nos encontramos los dos. \n",
      " \n",
      "En el bosque de la China, \n",
      "la chinita se perdió, \n",
      "como yo andaba perdido nos encontramos los dos. \n",
      " \n",
      "Era de noche, y la chinita, tenía miedo, \n",
      "miedo tenia de andar solita, \n",
      "anduvo un rato y se sentó, \n",
      "junto a la china, junto a la china me senté yo. \n",
      " \n",
      "Era de noche, y la chinita, tenía miedo, \n",
      "miedo tenia de andar solita, \n",
      "anduvo un rato y se sentó, \n",
      "junto a la china, junto a la china me senté yo.  \n",
      " \n",
      "Y yo que sí, y ella que no, y yo que sí, \n",
      "y ella que nooooo. \n",
      "Y al cabo fuimos, y al cabo fuimos, \n",
      "y al cabo fuimos de una opinión. \n",
      " \n",
      "Bajo el cielo de la China, \n",
      "la chinita se sentó, \n",
      "y la luna en ese instante de indiscreta la besó. \n",
      " \n",
      "Bajo el cielo de la China, \n",
      "la chinita se sentó, \n",
      "y la luna en ese instante de indiscreta la besó. \n",
      " \n",
      "Luna envidiosa, luna importuna, \n",
      "tenía celos, celos tenía de mi fortuna. \n",
      "Anduvo un rato y se sentó, junto a la china, \n",
      "junto a la china me senté yo. \n",
      " \n",
      "Luna envidiosa, luna importuna, \n",
      "tenía celos, celos tenía de mi fortuna. \n",
      "Anduvo un rato y se sentó, junto a la china, \n",
      "junto a la china me senté yo. \n",
      " \n",
      "\n"
     ]
    }
   ],
   "source": [
    "for tag in soup.find(class_='post-body').find('body').find('h2').next_siblings:\n",
    "    if tag.name!='p':\n",
    "        continue\n",
    "    \n",
    "    if isinstance(tag, NavigableString):\n",
    "        continue\n",
    "    if isinstance(tag, Tag):\n",
    "        for br in tag.findAll('br'):\n",
    "            tag.find('br').replaceWith(' ')\n",
    "        print(tag.get_text())"
   ]
  }
 ],
 "metadata": {
  "kernelspec": {
   "display_name": "Python 3",
   "language": "python",
   "name": "python3"
  },
  "language_info": {
   "codemirror_mode": {
    "name": "ipython",
    "version": 3
   },
   "file_extension": ".py",
   "mimetype": "text/x-python",
   "name": "python",
   "nbconvert_exporter": "python",
   "pygments_lexer": "ipython3",
   "version": "3.7.4"
  }
 },
 "nbformat": 4,
 "nbformat_minor": 5
}
